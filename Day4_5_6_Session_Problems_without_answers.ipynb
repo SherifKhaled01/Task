{
  "cells": [
    {
      "cell_type": "markdown",
      "id": "b67ca843",
      "metadata": {
        "id": "b67ca843"
      },
      "source": [
        "## EX1 : ask user to enter lower case string and convert all characters with even index to upper case ?"
      ]
    },
    {
      "cell_type": "code",
      "execution_count": 1,
      "id": "f15d3d36",
      "metadata": {
        "colab": {
          "base_uri": "https://localhost:8080/"
        },
        "id": "f15d3d36",
        "outputId": "fed4dd49-4fe0-4756-d225-b79861950a7b"
      },
      "outputs": [
        {
          "name": "stdout",
          "output_type": "stream",
          "text": [
            "Enter your Namesherif\n"
          ]
        }
      ],
      "source": [
        "var = input(\"Enter your Name\").lower()\n",
        "a = list(enumerate(var))\n",
        "out = []\n",
        "for i in range(len(a)):\n",
        "    if a[i][0] % 2 == 0 :\n",
        "        out.append(a[i][1].upper())\n",
        "    else:\n",
        "        out.append(a[i][1])\n",
        ""
      ]
    },
    {
      "cell_type": "code",
      "execution_count": 2,
      "id": "b8618619",
      "metadata": {
        "colab": {
          "base_uri": "https://localhost:8080/"
        },
        "id": "b8618619",
        "outputId": "568478e7-7ea3-4cd2-e5f7-9648b92f5b69"
      },
      "outputs": [
        {
          "output_type": "execute_result",
          "data": {
            "text/plain": [
              "2"
            ]
          },
          "metadata": {},
          "execution_count": 2
        }
      ],
      "source": [
        "a[2][0]"
      ]
    },
    {
      "cell_type": "code",
      "execution_count": 3,
      "id": "63691c52",
      "metadata": {
        "id": "63691c52"
      },
      "outputs": [],
      "source": [
        "string = ''.join(out)"
      ]
    },
    {
      "cell_type": "code",
      "execution_count": 4,
      "id": "80048b96",
      "metadata": {
        "colab": {
          "base_uri": "https://localhost:8080/",
          "height": 36
        },
        "id": "80048b96",
        "outputId": "ddc76e4d-5f04-4385-f994-1659d9068842"
      },
      "outputs": [
        {
          "output_type": "execute_result",
          "data": {
            "text/plain": [
              "'ShErIf'"
            ],
            "application/vnd.google.colaboratory.intrinsic+json": {
              "type": "string"
            }
          },
          "metadata": {},
          "execution_count": 4
        }
      ],
      "source": [
        "string"
      ]
    },
    {
      "cell_type": "code",
      "execution_count": 4,
      "id": "869fe1df",
      "metadata": {
        "id": "869fe1df"
      },
      "outputs": [],
      "source": []
    },
    {
      "cell_type": "code",
      "execution_count": 4,
      "id": "098ca087",
      "metadata": {
        "id": "098ca087"
      },
      "outputs": [],
      "source": []
    },
    {
      "cell_type": "code",
      "execution_count": 4,
      "id": "0310307e",
      "metadata": {
        "id": "0310307e"
      },
      "outputs": [],
      "source": []
    },
    {
      "cell_type": "code",
      "execution_count": 4,
      "id": "c58c402e",
      "metadata": {
        "id": "c58c402e"
      },
      "outputs": [],
      "source": []
    },
    {
      "cell_type": "code",
      "execution_count": 4,
      "id": "29137f3d",
      "metadata": {
        "id": "29137f3d"
      },
      "outputs": [],
      "source": []
    },
    {
      "cell_type": "markdown",
      "id": "d81abe2f",
      "metadata": {
        "id": "d81abe2f"
      },
      "source": [
        "## EX2 : you have a list of integers and ask user to enter number and if number exist inside list print exist else not exist ?"
      ]
    },
    {
      "cell_type": "code",
      "execution_count": 5,
      "id": "39258d4e",
      "metadata": {
        "colab": {
          "base_uri": "https://localhost:8080/"
        },
        "id": "39258d4e",
        "outputId": "79d778de-2258-4a6a-ad87-b7df6822e604"
      },
      "outputs": [
        {
          "output_type": "stream",
          "name": "stdout",
          "text": [
            "Enter your Number3\n",
            "exist\n"
          ]
        }
      ],
      "source": [
        "lst = [1,2,3,4,5]\n",
        "\n",
        "var = int(input(\"Enter your Number\"))\n",
        "\n",
        "if var in lst:\n",
        "    print(\"exist\")\n",
        "else:\n",
        "    print(\"not exist\")"
      ]
    },
    {
      "cell_type": "code",
      "execution_count": null,
      "id": "0d6e4ecf",
      "metadata": {
        "id": "0d6e4ecf"
      },
      "outputs": [],
      "source": []
    },
    {
      "cell_type": "code",
      "execution_count": null,
      "id": "d7d065a2",
      "metadata": {
        "id": "d7d065a2"
      },
      "outputs": [],
      "source": []
    },
    {
      "cell_type": "code",
      "execution_count": null,
      "id": "201b6cb9",
      "metadata": {
        "id": "201b6cb9"
      },
      "outputs": [],
      "source": []
    },
    {
      "cell_type": "code",
      "execution_count": null,
      "id": "48d5021d",
      "metadata": {
        "id": "48d5021d"
      },
      "outputs": [],
      "source": []
    },
    {
      "cell_type": "code",
      "execution_count": null,
      "id": "6c167a1a",
      "metadata": {
        "id": "6c167a1a"
      },
      "outputs": [],
      "source": []
    },
    {
      "cell_type": "code",
      "execution_count": null,
      "id": "808923e3",
      "metadata": {
        "id": "808923e3"
      },
      "outputs": [],
      "source": []
    },
    {
      "cell_type": "code",
      "execution_count": null,
      "id": "e0999bd9",
      "metadata": {
        "id": "e0999bd9"
      },
      "outputs": [],
      "source": []
    },
    {
      "cell_type": "code",
      "execution_count": null,
      "id": "deb0edfb",
      "metadata": {
        "id": "deb0edfb"
      },
      "outputs": [],
      "source": []
    },
    {
      "cell_type": "markdown",
      "id": "d3ff418c",
      "metadata": {
        "id": "d3ff418c"
      },
      "source": [
        "## EX3:  you have a list of integers and ask user to enter number and print number of occurrences of this number inside list ?"
      ]
    },
    {
      "cell_type": "code",
      "execution_count": 6,
      "id": "99129ff3",
      "metadata": {
        "colab": {
          "base_uri": "https://localhost:8080/"
        },
        "id": "99129ff3",
        "outputId": "c678c125-45f2-440c-ea59-f768d146aadb"
      },
      "outputs": [
        {
          "output_type": "execute_result",
          "data": {
            "text/plain": [
              "1"
            ]
          },
          "metadata": {},
          "execution_count": 6
        }
      ],
      "source": [
        "lst = [1,2,3,4,5]\n",
        "\n",
        "lst.count(1)"
      ]
    },
    {
      "cell_type": "code",
      "execution_count": null,
      "id": "3304a5f3",
      "metadata": {
        "id": "3304a5f3"
      },
      "outputs": [],
      "source": []
    },
    {
      "cell_type": "code",
      "execution_count": null,
      "id": "a8562bb7",
      "metadata": {
        "id": "a8562bb7"
      },
      "outputs": [],
      "source": []
    },
    {
      "cell_type": "code",
      "execution_count": null,
      "id": "7fd80e29",
      "metadata": {
        "id": "7fd80e29"
      },
      "outputs": [],
      "source": []
    },
    {
      "cell_type": "code",
      "execution_count": null,
      "id": "4291e244",
      "metadata": {
        "id": "4291e244"
      },
      "outputs": [],
      "source": []
    },
    {
      "cell_type": "code",
      "execution_count": null,
      "id": "b52c7b74",
      "metadata": {
        "id": "b52c7b74"
      },
      "outputs": [],
      "source": []
    },
    {
      "cell_type": "code",
      "execution_count": null,
      "id": "75901a30",
      "metadata": {
        "id": "75901a30"
      },
      "outputs": [],
      "source": []
    },
    {
      "cell_type": "code",
      "execution_count": null,
      "id": "7c2ce4f0",
      "metadata": {
        "id": "7c2ce4f0"
      },
      "outputs": [],
      "source": []
    },
    {
      "cell_type": "code",
      "execution_count": null,
      "id": "684cedae",
      "metadata": {
        "id": "684cedae"
      },
      "outputs": [],
      "source": []
    },
    {
      "cell_type": "markdown",
      "id": "1185527a",
      "metadata": {
        "id": "1185527a"
      },
      "source": [
        "## EX4: write a program to find number of occurrences for each item in list and store that output in dictionary ?"
      ]
    },
    {
      "cell_type": "code",
      "execution_count": null,
      "id": "845d76a9",
      "metadata": {
        "id": "845d76a9"
      },
      "outputs": [],
      "source": []
    },
    {
      "cell_type": "code",
      "execution_count": null,
      "id": "163e02d0",
      "metadata": {
        "id": "163e02d0"
      },
      "outputs": [],
      "source": []
    },
    {
      "cell_type": "code",
      "execution_count": null,
      "id": "e0c19403",
      "metadata": {
        "id": "e0c19403"
      },
      "outputs": [],
      "source": []
    },
    {
      "cell_type": "code",
      "execution_count": null,
      "id": "2141e4fe",
      "metadata": {
        "id": "2141e4fe"
      },
      "outputs": [],
      "source": []
    },
    {
      "cell_type": "code",
      "execution_count": null,
      "id": "027675fd",
      "metadata": {
        "id": "027675fd"
      },
      "outputs": [],
      "source": []
    },
    {
      "cell_type": "code",
      "execution_count": null,
      "id": "dbd848be",
      "metadata": {
        "id": "dbd848be"
      },
      "outputs": [],
      "source": []
    },
    {
      "cell_type": "code",
      "execution_count": null,
      "id": "a6b07dea",
      "metadata": {
        "id": "a6b07dea"
      },
      "outputs": [],
      "source": []
    },
    {
      "cell_type": "code",
      "execution_count": null,
      "id": "d5534e9a",
      "metadata": {
        "id": "d5534e9a"
      },
      "outputs": [],
      "source": []
    },
    {
      "cell_type": "code",
      "execution_count": null,
      "id": "34f4b660",
      "metadata": {
        "id": "34f4b660"
      },
      "outputs": [],
      "source": []
    },
    {
      "cell_type": "markdown",
      "id": "47ea78fa",
      "metadata": {
        "id": "47ea78fa"
      },
      "source": [
        "## EX5: you have a list and number search in list to find 2 items there sum is that number ?"
      ]
    },
    {
      "cell_type": "code",
      "execution_count": null,
      "id": "5fdf0642",
      "metadata": {
        "id": "5fdf0642",
        "outputId": "d80561b8-36fd-4c24-cfe9-58832e807ae3"
      },
      "outputs": [
        {
          "name": "stdout",
          "output_type": "stream",
          "text": [
            "1 4\n",
            "2 3\n",
            "3 2\n",
            "4 1\n"
          ]
        }
      ],
      "source": [
        "lst = [1,2,3,4,5]\n",
        "\n",
        "var = int(input())\n",
        "num1 = []\n",
        "num2 = []\n",
        "\n",
        "for i in lst:\n",
        "    for j in lst:\n",
        "        if var == i+j:\n",
        "            num1.append(i)\n",
        "            num2.append(j)\n",
        "\n",
        "            print(i , j)\n",
        ""
      ]
    },
    {
      "cell_type": "code",
      "execution_count": null,
      "id": "4252aba9",
      "metadata": {
        "id": "4252aba9"
      },
      "outputs": [],
      "source": []
    },
    {
      "cell_type": "code",
      "execution_count": null,
      "id": "3470d8e3",
      "metadata": {
        "id": "3470d8e3"
      },
      "outputs": [],
      "source": []
    },
    {
      "cell_type": "code",
      "execution_count": null,
      "id": "f4a956c9",
      "metadata": {
        "id": "f4a956c9"
      },
      "outputs": [],
      "source": []
    },
    {
      "cell_type": "code",
      "execution_count": null,
      "id": "ddb56d23",
      "metadata": {
        "id": "ddb56d23"
      },
      "outputs": [],
      "source": []
    },
    {
      "cell_type": "code",
      "execution_count": null,
      "id": "405c7858",
      "metadata": {
        "id": "405c7858"
      },
      "outputs": [],
      "source": []
    },
    {
      "cell_type": "code",
      "execution_count": null,
      "id": "af4ce4cf",
      "metadata": {
        "id": "af4ce4cf"
      },
      "outputs": [],
      "source": []
    },
    {
      "cell_type": "code",
      "execution_count": null,
      "id": "38499c0d",
      "metadata": {
        "id": "38499c0d"
      },
      "outputs": [],
      "source": []
    },
    {
      "cell_type": "code",
      "execution_count": null,
      "id": "b8565632",
      "metadata": {
        "id": "b8565632"
      },
      "outputs": [],
      "source": []
    },
    {
      "cell_type": "markdown",
      "id": "e9a64120",
      "metadata": {
        "id": "e9a64120"
      },
      "source": [
        "## EX6: you have a string you are asked to how many numbers , how many char , how many special char in it\n",
        "* sample input 'abc123+-\\z|'\n",
        "* number of numbers = 3\n",
        "* number of char = 4\n",
        "* number of special char = 4"
      ]
    },
    {
      "cell_type": "code",
      "execution_count": null,
      "id": "51fd63cd",
      "metadata": {
        "id": "51fd63cd"
      },
      "outputs": [],
      "source": []
    },
    {
      "cell_type": "code",
      "execution_count": null,
      "id": "506df337",
      "metadata": {
        "id": "506df337"
      },
      "outputs": [],
      "source": []
    },
    {
      "cell_type": "code",
      "execution_count": null,
      "id": "119c0df8",
      "metadata": {
        "id": "119c0df8"
      },
      "outputs": [],
      "source": []
    },
    {
      "cell_type": "code",
      "execution_count": null,
      "id": "8fad88ea",
      "metadata": {
        "id": "8fad88ea"
      },
      "outputs": [],
      "source": []
    },
    {
      "cell_type": "code",
      "execution_count": null,
      "id": "10e8c549",
      "metadata": {
        "id": "10e8c549"
      },
      "outputs": [],
      "source": []
    },
    {
      "cell_type": "code",
      "execution_count": null,
      "id": "d71c0933",
      "metadata": {
        "id": "d71c0933"
      },
      "outputs": [],
      "source": []
    },
    {
      "cell_type": "code",
      "execution_count": null,
      "id": "9bdf2788",
      "metadata": {
        "id": "9bdf2788"
      },
      "outputs": [],
      "source": []
    },
    {
      "cell_type": "code",
      "execution_count": null,
      "id": "6867a036",
      "metadata": {
        "id": "6867a036"
      },
      "outputs": [],
      "source": []
    },
    {
      "cell_type": "code",
      "execution_count": null,
      "id": "c42afe78",
      "metadata": {
        "id": "c42afe78"
      },
      "outputs": [],
      "source": []
    },
    {
      "cell_type": "code",
      "execution_count": null,
      "id": "cc5b0051",
      "metadata": {
        "id": "cc5b0051"
      },
      "outputs": [],
      "source": []
    },
    {
      "cell_type": "markdown",
      "id": "9780265e",
      "metadata": {
        "id": "9780265e"
      },
      "source": [
        "## EX7: For this dict find max city for each country\n",
        "* sample output (Egy -- > Damietta) --------- (US -- > California) .............................\n",
        "* countries = {'Egy' : {'Cairo' : 1200 , 'Luxor' : 198 , 'Giza' : 1987 , 'Damietta' : 19870}, 'US' : {'new Yourk' : 15500 , 'Los Angeles' : 1650 , 'California' : 18062} , 'UK' : {'London' : 1800 , 'Bristol' : 1890 , 'Manchester' : 19850} , 'france' : {'Paris' : 19820 , 'Marseille' : 1980 , 'Lyon' : 19875 } }\n",
        "\n"
      ]
    },
    {
      "cell_type": "code",
      "execution_count": 9,
      "id": "e2c20fd5",
      "metadata": {
        "colab": {
          "base_uri": "https://localhost:8080/"
        },
        "id": "e2c20fd5",
        "outputId": "dbab54e9-2517-48af-e908-459ee48485df"
      },
      "outputs": [
        {
          "output_type": "stream",
          "name": "stdout",
          "text": [
            "Egy Damietta\n",
            "US California\n",
            "UK Manchester\n",
            "france Lyon\n"
          ]
        }
      ],
      "source": [
        "countries = {'Egy' : {'Cairo' : 1200 , 'Luxor' : 198 , 'Giza' : 1987 , 'Damietta' : 19870}, 'US' : {'new Yourk' : 15500 , 'Los Angeles' : 1650 , 'California' : 18062} , 'UK' : {'London' : 1800 , 'Bristol' : 1890 , 'Manchester' : 19850} , 'france' : {'Paris' : 19820 , 'Marseille' : 1980 , 'Lyon' : 19875 } }\n",
        "for k,v in countries.items():\n",
        "    print(k , max(v , key = v.get))"
      ]
    },
    {
      "cell_type": "code",
      "execution_count": null,
      "id": "b78ce243",
      "metadata": {
        "id": "b78ce243"
      },
      "outputs": [],
      "source": []
    },
    {
      "cell_type": "code",
      "execution_count": null,
      "id": "1fe03aac",
      "metadata": {
        "id": "1fe03aac"
      },
      "outputs": [],
      "source": []
    },
    {
      "cell_type": "code",
      "execution_count": null,
      "id": "e69632a8",
      "metadata": {
        "id": "e69632a8"
      },
      "outputs": [],
      "source": []
    },
    {
      "cell_type": "code",
      "execution_count": null,
      "id": "14236295",
      "metadata": {
        "id": "14236295"
      },
      "outputs": [],
      "source": []
    },
    {
      "cell_type": "code",
      "execution_count": null,
      "id": "43098f00",
      "metadata": {
        "id": "43098f00"
      },
      "outputs": [],
      "source": []
    },
    {
      "cell_type": "code",
      "execution_count": null,
      "id": "633ee7b9",
      "metadata": {
        "id": "633ee7b9"
      },
      "outputs": [],
      "source": []
    },
    {
      "cell_type": "code",
      "execution_count": null,
      "id": "0cc75044",
      "metadata": {
        "id": "0cc75044"
      },
      "outputs": [],
      "source": []
    },
    {
      "cell_type": "code",
      "execution_count": null,
      "id": "90973374",
      "metadata": {
        "id": "90973374"
      },
      "outputs": [],
      "source": []
    },
    {
      "cell_type": "markdown",
      "id": "6bea6dca",
      "metadata": {
        "id": "6bea6dca"
      },
      "source": [
        "## EX8 : For this dictionary find total price for meal ?"
      ]
    },
    {
      "cell_type": "code",
      "execution_count": 15,
      "id": "0b069625",
      "metadata": {
        "colab": {
          "base_uri": "https://localhost:8080/"
        },
        "id": "0b069625",
        "outputId": "03343e21-d45f-4c45-cf28-6763ef2571f0"
      },
      "outputs": [
        {
          "output_type": "execute_result",
          "data": {
            "text/plain": [
              "750"
            ]
          },
          "metadata": {},
          "execution_count": 15
        }
      ],
      "source": [
        "meal = {'meat':400,'chicken':250,'beans':100}\n",
        "sum(meal.values())"
      ]
    },
    {
      "cell_type": "code",
      "execution_count": null,
      "id": "6ea2ec56",
      "metadata": {
        "id": "6ea2ec56"
      },
      "outputs": [],
      "source": []
    },
    {
      "cell_type": "code",
      "execution_count": null,
      "id": "6ff0c603",
      "metadata": {
        "id": "6ff0c603"
      },
      "outputs": [],
      "source": []
    },
    {
      "cell_type": "code",
      "execution_count": null,
      "id": "8f3d3a72",
      "metadata": {
        "id": "8f3d3a72"
      },
      "outputs": [],
      "source": []
    },
    {
      "cell_type": "code",
      "execution_count": null,
      "id": "66a97901",
      "metadata": {
        "id": "66a97901"
      },
      "outputs": [],
      "source": []
    },
    {
      "cell_type": "code",
      "execution_count": null,
      "id": "cca46d1c",
      "metadata": {
        "id": "cca46d1c"
      },
      "outputs": [],
      "source": []
    },
    {
      "cell_type": "code",
      "execution_count": null,
      "id": "4cf42c2c",
      "metadata": {
        "id": "4cf42c2c"
      },
      "outputs": [],
      "source": []
    },
    {
      "cell_type": "code",
      "execution_count": null,
      "id": "12dd13ba",
      "metadata": {
        "id": "12dd13ba"
      },
      "outputs": [],
      "source": []
    },
    {
      "cell_type": "code",
      "execution_count": null,
      "id": "8df3171b",
      "metadata": {
        "id": "8df3171b"
      },
      "outputs": [],
      "source": []
    },
    {
      "cell_type": "markdown",
      "id": "f88dfb21",
      "metadata": {
        "id": "f88dfb21"
      },
      "source": [
        "## EX9: ask user to enter integer number and show whether this number is prime or not ?"
      ]
    },
    {
      "cell_type": "code",
      "execution_count": 18,
      "id": "ce06ccd0",
      "metadata": {
        "colab": {
          "base_uri": "https://localhost:8080/"
        },
        "id": "ce06ccd0",
        "outputId": "b8615dbf-ef6d-4ac9-b924-e2a6769bfb70"
      },
      "outputs": [
        {
          "output_type": "stream",
          "name": "stdout",
          "text": [
            "Enter your number4\n",
            "not prime\n"
          ]
        }
      ],
      "source": [
        "num1 = int(input(\"Enter your number\"))\n",
        "for i in range(2,num1):\n",
        "    if num1 % i == 0:\n",
        "        print(\"not prime\")\n",
        "        break\n",
        "else:\n",
        "    print(\"prime\")"
      ]
    },
    {
      "cell_type": "code",
      "execution_count": null,
      "id": "ed7dc34b",
      "metadata": {
        "id": "ed7dc34b"
      },
      "outputs": [],
      "source": []
    },
    {
      "cell_type": "code",
      "execution_count": null,
      "id": "eb516fb2",
      "metadata": {
        "id": "eb516fb2"
      },
      "outputs": [],
      "source": []
    },
    {
      "cell_type": "code",
      "execution_count": null,
      "id": "cf708c1c",
      "metadata": {
        "id": "cf708c1c"
      },
      "outputs": [],
      "source": []
    },
    {
      "cell_type": "code",
      "execution_count": null,
      "id": "767c8537",
      "metadata": {
        "id": "767c8537"
      },
      "outputs": [],
      "source": []
    },
    {
      "cell_type": "code",
      "execution_count": null,
      "id": "9efcd799",
      "metadata": {
        "id": "9efcd799"
      },
      "outputs": [],
      "source": []
    },
    {
      "cell_type": "code",
      "execution_count": null,
      "id": "07343f2d",
      "metadata": {
        "id": "07343f2d"
      },
      "outputs": [],
      "source": []
    },
    {
      "cell_type": "code",
      "execution_count": null,
      "id": "fbe67bc8",
      "metadata": {
        "id": "fbe67bc8"
      },
      "outputs": [],
      "source": []
    },
    {
      "cell_type": "code",
      "execution_count": null,
      "id": "8bcf5d64",
      "metadata": {
        "id": "8bcf5d64"
      },
      "outputs": [],
      "source": []
    },
    {
      "cell_type": "markdown",
      "id": "327499d9",
      "metadata": {
        "id": "327499d9"
      },
      "source": [
        "## EX10 : you have a list you are asked to reverse this list ?"
      ]
    },
    {
      "cell_type": "code",
      "execution_count": 19,
      "id": "927d65e7",
      "metadata": {
        "colab": {
          "base_uri": "https://localhost:8080/"
        },
        "id": "927d65e7",
        "outputId": "c8c49de7-0a60-48c9-b39b-790a4a031193"
      },
      "outputs": [
        {
          "output_type": "execute_result",
          "data": {
            "text/plain": [
              "[5, 4, 3, 2, 1]"
            ]
          },
          "metadata": {},
          "execution_count": 19
        }
      ],
      "source": [
        "list1 = [1,2,3,4,5]\n",
        "list1[::-1]"
      ]
    },
    {
      "cell_type": "code",
      "execution_count": null,
      "id": "50554351",
      "metadata": {
        "id": "50554351"
      },
      "outputs": [],
      "source": []
    },
    {
      "cell_type": "code",
      "execution_count": null,
      "id": "6829f883",
      "metadata": {
        "id": "6829f883"
      },
      "outputs": [],
      "source": []
    },
    {
      "cell_type": "code",
      "execution_count": null,
      "id": "d8284353",
      "metadata": {
        "id": "d8284353"
      },
      "outputs": [],
      "source": []
    },
    {
      "cell_type": "code",
      "execution_count": null,
      "id": "d3604da0",
      "metadata": {
        "id": "d3604da0"
      },
      "outputs": [],
      "source": []
    },
    {
      "cell_type": "code",
      "execution_count": null,
      "id": "8e206583",
      "metadata": {
        "id": "8e206583"
      },
      "outputs": [],
      "source": []
    },
    {
      "cell_type": "code",
      "execution_count": null,
      "id": "3e9d1696",
      "metadata": {
        "id": "3e9d1696"
      },
      "outputs": [],
      "source": []
    },
    {
      "cell_type": "code",
      "execution_count": null,
      "id": "3ab79db9",
      "metadata": {
        "id": "3ab79db9"
      },
      "outputs": [],
      "source": []
    },
    {
      "cell_type": "code",
      "execution_count": null,
      "id": "b8e0a268",
      "metadata": {
        "id": "b8e0a268"
      },
      "outputs": [],
      "source": []
    },
    {
      "cell_type": "markdown",
      "id": "79cea4d1",
      "metadata": {
        "id": "79cea4d1"
      },
      "source": [
        "## EX11: Find Greatest Common divisor between two numbers"
      ]
    },
    {
      "cell_type": "code",
      "execution_count": 37,
      "id": "f4bf7c7d",
      "metadata": {
        "colab": {
          "base_uri": "https://localhost:8080/"
        },
        "id": "f4bf7c7d",
        "outputId": "b500b53b-1032-4359-e574-572350489ee8"
      },
      "outputs": [
        {
          "output_type": "stream",
          "name": "stdout",
          "text": [
            "Enter your number12\n",
            "Enter your number24\n",
            "12\n"
          ]
        }
      ],
      "source": [
        "num1 = int(input(\"Enter your number\"))\n",
        "num2 = int(input(\"Enter your number\"))\n",
        "for i in range(1,min(num1,num2)+1):\n",
        "    if num1 % i == 0 and num2 % i == 0:\n",
        "        max = i\n",
        "print(max)\n"
      ]
    },
    {
      "cell_type": "code",
      "execution_count": null,
      "id": "0acfd12e",
      "metadata": {
        "id": "0acfd12e"
      },
      "outputs": [],
      "source": [
        "2"
      ]
    },
    {
      "cell_type": "code",
      "execution_count": null,
      "id": "1009ac6a",
      "metadata": {
        "id": "1009ac6a"
      },
      "outputs": [],
      "source": []
    },
    {
      "cell_type": "code",
      "execution_count": null,
      "id": "276d69a9",
      "metadata": {
        "id": "276d69a9"
      },
      "outputs": [],
      "source": []
    },
    {
      "cell_type": "code",
      "execution_count": null,
      "id": "6809a345",
      "metadata": {
        "id": "6809a345"
      },
      "outputs": [],
      "source": []
    },
    {
      "cell_type": "code",
      "execution_count": null,
      "id": "136408b8",
      "metadata": {
        "id": "136408b8"
      },
      "outputs": [],
      "source": []
    },
    {
      "cell_type": "code",
      "execution_count": null,
      "id": "0dbf5f36",
      "metadata": {
        "id": "0dbf5f36"
      },
      "outputs": [],
      "source": []
    },
    {
      "cell_type": "code",
      "execution_count": null,
      "id": "10ea13ca",
      "metadata": {
        "id": "10ea13ca"
      },
      "outputs": [],
      "source": []
    },
    {
      "cell_type": "code",
      "execution_count": null,
      "id": "bf39f19f",
      "metadata": {
        "id": "bf39f19f"
      },
      "outputs": [],
      "source": []
    },
    {
      "cell_type": "markdown",
      "id": "54afe500",
      "metadata": {
        "id": "54afe500"
      },
      "source": [
        "## EX12: Write a program that repeatedly collects positive integers from the user, stopping when the user enters a negative number or zero. After that, output the product of all positive entries."
      ]
    },
    {
      "cell_type": "code",
      "execution_count": 38,
      "id": "bc6556d5",
      "metadata": {
        "colab": {
          "base_uri": "https://localhost:8080/"
        },
        "id": "bc6556d5",
        "outputId": "9fccfd97-3a9c-4099-ac8b-e1fb219c5c04"
      },
      "outputs": [
        {
          "output_type": "stream",
          "name": "stdout",
          "text": [
            "Enter your number1\n",
            "Enter your number2\n",
            "Enter your number3\n",
            "Enter your number4\n",
            "Enter your number5\n",
            "Enter your number6\n",
            "Enter your number0\n",
            "[1, 2, 3, 4, 5, 6]\n"
          ]
        }
      ],
      "source": [
        "list1 = []\n",
        "while True:\n",
        "    num = int(input(\"Enter your number\"))\n",
        "    if num > 0:\n",
        "        list1.append(num)\n",
        "    else:\n",
        "        break\n",
        "print(list1)"
      ]
    },
    {
      "cell_type": "code",
      "execution_count": null,
      "id": "7d08b7a3",
      "metadata": {
        "id": "7d08b7a3"
      },
      "outputs": [],
      "source": []
    },
    {
      "cell_type": "code",
      "execution_count": null,
      "id": "5c1719e1",
      "metadata": {
        "id": "5c1719e1"
      },
      "outputs": [],
      "source": []
    },
    {
      "cell_type": "code",
      "execution_count": null,
      "id": "bfea6350",
      "metadata": {
        "id": "bfea6350"
      },
      "outputs": [],
      "source": []
    },
    {
      "cell_type": "code",
      "execution_count": null,
      "id": "304fa32c",
      "metadata": {
        "id": "304fa32c"
      },
      "outputs": [],
      "source": []
    },
    {
      "cell_type": "code",
      "execution_count": null,
      "id": "d7fbb38b",
      "metadata": {
        "id": "d7fbb38b"
      },
      "outputs": [],
      "source": []
    },
    {
      "cell_type": "code",
      "execution_count": null,
      "id": "75858b18",
      "metadata": {
        "id": "75858b18"
      },
      "outputs": [],
      "source": []
    },
    {
      "cell_type": "code",
      "execution_count": null,
      "id": "4e2ad91e",
      "metadata": {
        "id": "4e2ad91e"
      },
      "outputs": [],
      "source": []
    },
    {
      "cell_type": "code",
      "execution_count": null,
      "id": "e675f665",
      "metadata": {
        "id": "e675f665"
      },
      "outputs": [],
      "source": []
    },
    {
      "cell_type": "markdown",
      "id": "8e616dcc",
      "metadata": {
        "id": "8e616dcc"
      },
      "source": [
        "## EX13: Write a program that accepts from the user a list of positive integers and displays the number of even and odd values in the list. The program accepts numbers from the user until he enters a negative value."
      ]
    },
    {
      "cell_type": "code",
      "execution_count": 41,
      "id": "74a207ae",
      "metadata": {
        "colab": {
          "base_uri": "https://localhost:8080/"
        },
        "id": "74a207ae",
        "outputId": "8983f04c-3d4f-4dd5-f767-45cf054c3f12"
      },
      "outputs": [
        {
          "output_type": "stream",
          "name": "stdout",
          "text": [
            "Enter your number1\n",
            "Enter your number2\n",
            "Enter your number3\n",
            "Enter your number4\n",
            "Enter your number5\n",
            "Enter your number6\n",
            "Enter your number0\n",
            "even =  3\n",
            "odd =  3\n"
          ]
        }
      ],
      "source": [
        "list1 = []\n",
        "while True:\n",
        "    num = int(input(\"Enter your number\"))\n",
        "    if num > 0:\n",
        "        list1.append(num)\n",
        "    else:\n",
        "        break\n",
        "if len(list1) > 0:\n",
        "    even = 0\n",
        "    odd = 0\n",
        "    for i in list1:\n",
        "        if i % 2 == 0:\n",
        "            even += 1\n",
        "        else:\n",
        "            odd += 1\n",
        "print(\"even = \" , even)\n",
        "print(\"odd = \" , odd)"
      ]
    },
    {
      "cell_type": "code",
      "execution_count": null,
      "id": "ea1f7afd",
      "metadata": {
        "id": "ea1f7afd"
      },
      "outputs": [],
      "source": [
        "3"
      ]
    },
    {
      "cell_type": "code",
      "execution_count": null,
      "id": "7b5787f0",
      "metadata": {
        "id": "7b5787f0"
      },
      "outputs": [],
      "source": []
    },
    {
      "cell_type": "code",
      "execution_count": null,
      "id": "7c989682",
      "metadata": {
        "id": "7c989682"
      },
      "outputs": [],
      "source": []
    },
    {
      "cell_type": "code",
      "execution_count": null,
      "id": "16d98673",
      "metadata": {
        "id": "16d98673"
      },
      "outputs": [],
      "source": []
    },
    {
      "cell_type": "code",
      "execution_count": null,
      "id": "b2d14fca",
      "metadata": {
        "id": "b2d14fca"
      },
      "outputs": [],
      "source": []
    },
    {
      "cell_type": "code",
      "execution_count": null,
      "id": "7708a25e",
      "metadata": {
        "id": "7708a25e"
      },
      "outputs": [],
      "source": []
    },
    {
      "cell_type": "code",
      "execution_count": null,
      "id": "13c271ce",
      "metadata": {
        "id": "13c271ce"
      },
      "outputs": [],
      "source": []
    },
    {
      "cell_type": "code",
      "execution_count": null,
      "id": "a6af6821",
      "metadata": {
        "id": "a6af6821"
      },
      "outputs": [],
      "source": []
    },
    {
      "cell_type": "markdown",
      "id": "909a4463",
      "metadata": {
        "id": "909a4463"
      },
      "source": [
        "## EX14: Write a program that asks the user to enter an integer and reports all divisors in ascending order."
      ]
    },
    {
      "cell_type": "code",
      "execution_count": 44,
      "id": "6eab68ca",
      "metadata": {
        "colab": {
          "base_uri": "https://localhost:8080/"
        },
        "id": "6eab68ca",
        "outputId": "3ffa8235-5eda-48cf-a839-fd340787ffc3"
      },
      "outputs": [
        {
          "output_type": "stream",
          "name": "stdout",
          "text": [
            "Enter your number10\n",
            "[1, 2, 5, 10]\n"
          ]
        }
      ],
      "source": [
        "num = int(input(\"Enter your number\"))\n",
        "list1=[]\n",
        "for i in range(1,num+1):\n",
        "    if num % i == 0:\n",
        "        list1.append(i)\n",
        "print(list1)"
      ]
    },
    {
      "cell_type": "code",
      "execution_count": null,
      "id": "132e79ce",
      "metadata": {
        "id": "132e79ce"
      },
      "outputs": [],
      "source": []
    },
    {
      "cell_type": "code",
      "execution_count": null,
      "id": "ae8b5fca",
      "metadata": {
        "id": "ae8b5fca"
      },
      "outputs": [],
      "source": []
    },
    {
      "cell_type": "code",
      "execution_count": null,
      "id": "ba461e1f",
      "metadata": {
        "id": "ba461e1f"
      },
      "outputs": [],
      "source": []
    },
    {
      "cell_type": "code",
      "execution_count": null,
      "id": "eb000775",
      "metadata": {
        "id": "eb000775"
      },
      "outputs": [],
      "source": []
    },
    {
      "cell_type": "code",
      "execution_count": null,
      "id": "12ced027",
      "metadata": {
        "id": "12ced027"
      },
      "outputs": [],
      "source": []
    },
    {
      "cell_type": "code",
      "execution_count": null,
      "id": "347506df",
      "metadata": {
        "id": "347506df"
      },
      "outputs": [],
      "source": []
    },
    {
      "cell_type": "code",
      "execution_count": null,
      "id": "69f78f43",
      "metadata": {
        "id": "69f78f43"
      },
      "outputs": [],
      "source": []
    },
    {
      "cell_type": "code",
      "execution_count": null,
      "id": "9d562e5b",
      "metadata": {
        "id": "9d562e5b"
      },
      "outputs": [],
      "source": []
    },
    {
      "cell_type": "markdown",
      "id": "5b362ce0",
      "metadata": {
        "id": "5b362ce0"
      },
      "source": [
        "## EX15: Write a program that accepts numbers from the user and then tells the maximum two numbers of them. The results should be displayed when the user enters a negative number"
      ]
    },
    {
      "cell_type": "code",
      "execution_count": 46,
      "id": "85167b55",
      "metadata": {
        "colab": {
          "base_uri": "https://localhost:8080/"
        },
        "id": "85167b55",
        "outputId": "d759fe7e-d527-435c-89ab-3ce8e53022be"
      },
      "outputs": [
        {
          "output_type": "stream",
          "name": "stdout",
          "text": [
            "Enter your number2\n",
            "Enter your number3\n",
            "Enter your number5\n",
            "Enter your number7\n",
            "Enter your number0\n",
            "Enter your number-1\n",
            "7 5\n"
          ]
        }
      ],
      "source": [
        "list1 = []\n",
        "while True:\n",
        "    num = int(input(\"Enter your number\"))\n",
        "    if num > -1:\n",
        "        list1.append(num)\n",
        "    else:\n",
        "        break\n",
        "list1.sort()\n",
        "print(list1[-1] , list1[-2])"
      ]
    },
    {
      "cell_type": "code",
      "execution_count": null,
      "id": "49c56ef6",
      "metadata": {
        "id": "49c56ef6"
      },
      "outputs": [],
      "source": []
    },
    {
      "cell_type": "code",
      "execution_count": null,
      "id": "81af5775",
      "metadata": {
        "id": "81af5775"
      },
      "outputs": [],
      "source": []
    },
    {
      "cell_type": "code",
      "execution_count": null,
      "id": "3f04bb9a",
      "metadata": {
        "id": "3f04bb9a"
      },
      "outputs": [],
      "source": []
    },
    {
      "cell_type": "code",
      "execution_count": null,
      "id": "1d692095",
      "metadata": {
        "id": "1d692095"
      },
      "outputs": [],
      "source": []
    },
    {
      "cell_type": "code",
      "execution_count": null,
      "id": "d8947359",
      "metadata": {
        "id": "d8947359"
      },
      "outputs": [],
      "source": []
    },
    {
      "cell_type": "code",
      "execution_count": null,
      "id": "54abe593",
      "metadata": {
        "id": "54abe593"
      },
      "outputs": [],
      "source": []
    },
    {
      "cell_type": "code",
      "execution_count": null,
      "id": "1a434ebb",
      "metadata": {
        "id": "1a434ebb"
      },
      "outputs": [],
      "source": []
    },
    {
      "cell_type": "code",
      "execution_count": null,
      "id": "30a2aab5",
      "metadata": {
        "id": "30a2aab5"
      },
      "outputs": [],
      "source": []
    },
    {
      "cell_type": "code",
      "execution_count": null,
      "id": "4bcaca41",
      "metadata": {
        "id": "4bcaca41"
      },
      "outputs": [],
      "source": []
    }
  ],
  "metadata": {
    "kernelspec": {
      "display_name": "base",
      "language": "python",
      "name": "python3"
    },
    "language_info": {
      "codemirror_mode": {
        "name": "ipython",
        "version": 3
      },
      "file_extension": ".py",
      "mimetype": "text/x-python",
      "name": "python",
      "nbconvert_exporter": "python",
      "pygments_lexer": "ipython3",
      "version": "3.12.4"
    },
    "colab": {
      "provenance": []
    }
  },
  "nbformat": 4,
  "nbformat_minor": 5
}